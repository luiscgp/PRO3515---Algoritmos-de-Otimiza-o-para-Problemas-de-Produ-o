{
 "cells": [
  {
   "cell_type": "markdown",
   "metadata": {},
   "source": [
    "## Desafio 1 - Algoritmo de Moore"
   ]
  },
  {
   "cell_type": "markdown",
   "metadata": {},
   "source": [
    "### Objetivo\n",
    "- Minimizar o número de ordens atrasadas em problemas de máquina única (SMP – Single Machine Problem)"
   ]
  },
  {
   "cell_type": "markdown",
   "metadata": {},
   "source": [
    "### Descrição\n",
    "- Dado um conjunto de ‘n’ jobs a serem processados em uma única máquina, com tempos de processamento e datas de entrega conhecidos, definir a sequência que minimiza o número de jobs concluídos fora do prazo de entrega (atrasados)"
   ]
  },
  {
   "cell_type": "markdown",
   "metadata": {},
   "source": [
    "### Entrada\n",
    "- Tabela com tempos de processamento (processing times –  pi ) e datas de entrega prometidas (due dates –  di )\n",
    "\n",
    "|i|p_i|d_i|\n",
    "|---|---|---|\n",
    "|0|3|7|\n",
    "|1|4|8|\n",
    "|2|2|9|\n",
    "|3|6|12|\n",
    "|4|1|4|"
   ]
  },
  {
   "cell_type": "markdown",
   "metadata": {},
   "source": [
    "**Classe Job**"
   ]
  },
  {
   "cell_type": "code",
   "execution_count": 14,
   "metadata": {},
   "outputs": [],
   "source": [
    "import pandas as pd"
   ]
  },
  {
   "cell_type": "code",
   "execution_count": 15,
   "metadata": {},
   "outputs": [],
   "source": [
    "class Job:\n",
    "    def __init__(self,i,pi,di):\n",
    "        self.i=i     # número do job, pela ordem de chegada\n",
    "        self.p=pi     # processing time\n",
    "        self.d=di     # due date\n",
    "        self.C=0.0     # completion time\n",
    "        self.T=0.0     # tardiness"
   ]
  },
  {
   "cell_type": "markdown",
   "metadata": {},
   "source": [
    "**Função para cálculo dos indicadores**"
   ]
  },
  {
   "cell_type": "code",
   "execution_count": 16,
   "metadata": {},
   "outputs": [],
   "source": [
    "def calcInd(jobs):     # Indicadores para SMP\n",
    "    \n",
    "    n=len(jobs)\n",
    "    \n",
    "    jobs[0].C=jobs[0].p\n",
    "    for j in range(1,n):\n",
    "        jobs[j].C=jobs[j-1].C+jobs[j].p\n",
    "    \n",
    "    for job in jobs:\n",
    "        job.T=max(0,job.C-job.d)\n",
    "        \n",
    "    Cmax=jobs[-1].C\n",
    "    \n",
    "    Fbar=0.0\n",
    "    TT=0.0\n",
    "    Tmax=0.0\n",
    "    nT=0\n",
    "    for job in jobs:\n",
    "        Fbar+=job.C\n",
    "        TT+=job.T\n",
    "        if job.T>0:\n",
    "            nT+=1\n",
    "            Tmax=max(Tmax,job.T)\n",
    "    \n",
    "    Fbar=Fbar/n\n",
    "    \n",
    "    # alternativa: usar o recurso \"list comprehension\" do Python\n",
    "    # exemplo:\n",
    "    # TT=sum([job.T for job in jobs])\n",
    "    # nT=sum([1 if job.T>0 else 0 for job in jobs])\n",
    "\n",
    "    return Cmax, Fbar,TT, Tmax, nT"
   ]
  },
  {
   "cell_type": "markdown",
   "metadata": {},
   "source": [
    "**Função para printar os jobs e seus parâmetros**"
   ]
  },
  {
   "cell_type": "code",
   "execution_count": 17,
   "metadata": {},
   "outputs": [],
   "source": [
    "def printJobs(jobs):\n",
    "\n",
    "    tab=pd.DataFrame({\n",
    "    \"#\":[job.i for job in jobs],\n",
    "    \"p\":[job.p for job in jobs],\n",
    "    \"d\":[job.d for job in jobs],\n",
    "    \"C\":[job.C for job in jobs],\n",
    "    \"T\":[job.T for job in jobs],\n",
    "    })\n",
    "    print(tab)\n",
    "    "
   ]
  },
  {
   "cell_type": "markdown",
   "metadata": {},
   "source": [
    "## Algoritmo de Moore"
   ]
  },
  {
   "cell_type": "markdown",
   "metadata": {},
   "source": [
    "O algoritmo de Moore, cuja entrada são os tempos de processamento de cada job (p) e suas respectivas datas de entrega (d)"
   ]
  },
  {
   "cell_type": "code",
   "execution_count": 18,
   "metadata": {},
   "outputs": [],
   "source": [
    "def AlgMoore(p,d):\n",
    "    # Criação da instância\n",
    "    jobs=[] \n",
    "    for i in range(len(p)):\n",
    "        jobs.append(Job(i,p[i],d[i])) \n",
    "    # Criação das listas A (de Jobs) e B (de Backlog)\n",
    "    A = jobs.copy()\n",
    "    A.sort(key=lambda job: job.d)\n",
    "    B = []\n",
    "    # Calculo inicial dos indices\n",
    "    calcInd(A)\n",
    "    # implementação do algoritmo de moore\n",
    "    while any([A[i].T != 0 for i in range(len(A))]) and any([A[i].d != 0 for i in range(len(A))]):\n",
    "        FuncTard = list(filter(lambda job: job.T == 0, A))\n",
    "        maxp = max(map(lambda job: job.p,FuncTard))\n",
    "        for i in A:\n",
    "            if i.p == maxp:\n",
    "                elemento = i\n",
    "        A.remove(elemento)\n",
    "        B.append(elemento)\n",
    "        calcInd(A)\n",
    "    B.sort(key=lambda job:job.p)\n",
    "    for i in range(len(B)):\n",
    "        A.append(B[i])\n",
    "    return A,calcInd(A)"
   ]
  },
  {
   "cell_type": "markdown",
   "metadata": {},
   "source": [
    "**Testes**"
   ]
  },
  {
   "cell_type": "code",
   "execution_count": 19,
   "metadata": {},
   "outputs": [
    {
     "name": "stdout",
     "output_type": "stream",
     "text": [
      "   #  p   d   C  T\n",
      "0  4  1   4   1  0\n",
      "1  0  3   7   4  0\n",
      "2  2  2   9   6  0\n",
      "3  3  6  12  12  0\n",
      "4  1  4   8  16  8\n",
      "Cmax = 16 \n",
      "Fbar=  7.8\n",
      "TT=    8.0\n",
      "Tmax=  8\n",
      "nT=    1\n"
     ]
    }
   ],
   "source": [
    "# instância 1\n",
    "p=[3,4,2,6,1]\n",
    "d=[7,8,9,12,4]\n",
    "A,a = AlgMoore(p,d)\n",
    "printJobs(A)\n",
    "print(f\"Cmax = {a[0]} \\nFbar=  {a[1]}\\nTT=    {a[2]}\\nTmax=  {a[3]}\\nnT=    {a[4]}\")"
   ]
  },
  {
   "cell_type": "code",
   "execution_count": 20,
   "metadata": {},
   "outputs": [
    {
     "name": "stdout",
     "output_type": "stream",
     "text": [
      "   #  p   d   C  T\n",
      "0  0  3  20   3  0\n",
      "1  1  4  20   7  0\n",
      "2  2  2  20   9  0\n",
      "3  3  6  20  15  0\n",
      "4  4  1  20  16  0\n",
      "Cmax = 16 \n",
      "Fbar=  10.0\n",
      "TT=    0.0\n",
      "Tmax=  0.0\n",
      "nT=    0\n"
     ]
    }
   ],
   "source": [
    "# instância 2\n",
    "p=[3, 4, 2, 6, 1]\n",
    "d=[20, 20, 20, 20, 20]\n",
    "A,a = AlgMoore(p,d)\n",
    "printJobs(A)\n",
    "print(f\"Cmax = {a[0]} \\nFbar=  {a[1]}\\nTT=    {a[2]}\\nTmax=  {a[3]}\\nnT=    {a[4]}\")"
   ]
  },
  {
   "cell_type": "code",
   "execution_count": 21,
   "metadata": {},
   "outputs": [
    {
     "name": "stdout",
     "output_type": "stream",
     "text": [
      "   #  p  d   C   T\n",
      "0  0  3  0   3   3\n",
      "1  1  4  0   7   7\n",
      "2  2  2  0   9   9\n",
      "3  3  6  0  15  15\n",
      "4  4  1  0  16  16\n",
      "Cmax = 16 \n",
      "Fbar=  10.0\n",
      "TT=    50.0\n",
      "Tmax=  16\n",
      "nT=    5\n"
     ]
    }
   ],
   "source": [
    "# instância 3\n",
    "p=[3, 4, 2, 6, 1]\n",
    "d=[0, 0, 0, 0, 0]\n",
    "A,a = AlgMoore(p,d)\n",
    "printJobs(A)\n",
    "print(f\"Cmax = {a[0]} \\nFbar=  {a[1]}\\nTT=    {a[2]}\\nTmax=  {a[3]}\\nnT=    {a[4]}\")"
   ]
  },
  {
   "cell_type": "code",
   "execution_count": 22,
   "metadata": {},
   "outputs": [
    {
     "name": "stdout",
     "output_type": "stream",
     "text": [
      "   #  p   d   C  T\n",
      "0  0  1  10   1  0\n",
      "1  1  2  10   3  0\n",
      "2  4  5  10   8  0\n",
      "3  2  3  10  11  1\n",
      "4  3  4  10  15  5\n",
      "Cmax = 15 \n",
      "Fbar=  7.6\n",
      "TT=    6.0\n",
      "Tmax=  5\n",
      "nT=    2\n"
     ]
    }
   ],
   "source": [
    "# instância 4\n",
    "p=[1, 2, 3, 4, 5]\n",
    "d=[10, 10, 10, 10, 10]\n",
    "A,a = AlgMoore(p,d)\n",
    "printJobs(A)\n",
    "print(f\"Cmax = {a[0]} \\nFbar=  {a[1]}\\nTT=    {a[2]}\\nTmax=  {a[3]}\\nnT=    {a[4]}\")"
   ]
  },
  {
   "cell_type": "code",
   "execution_count": 23,
   "metadata": {},
   "outputs": [
    {
     "name": "stdout",
     "output_type": "stream",
     "text": [
      "   #  p   d   C   T\n",
      "0  0  1  20   1   0\n",
      "1  1  6  30   7   0\n",
      "2  2  2  30   9   0\n",
      "3  3  1  30  10   0\n",
      "4  5  8  30  18   0\n",
      "5  6  2  30  20   0\n",
      "6  7  3  30  23   0\n",
      "7  9  1  40  24   0\n",
      "8  8  9  30  33   3\n",
      "9  4  9  30  42  12\n",
      "Cmax = 42 \n",
      "Fbar=  18.7\n",
      "TT=    15.0\n",
      "Tmax=  12\n",
      "nT=    2\n"
     ]
    }
   ],
   "source": [
    "# instância 5\n",
    "p=[1, 6, 2, 1, 9, 8, 2, 3, 9, 1]\n",
    "d=[20, 30, 30, 30, 30, 30, 30, 30, 30, 40]\n",
    "A,a = AlgMoore(p,d)\n",
    "printJobs(A)\n",
    "print(f\"Cmax = {a[0]} \\nFbar=  {a[1]}\\nTT=    {a[2]}\\nTmax=  {a[3]}\\nnT=    {a[4]}\")"
   ]
  },
  {
   "cell_type": "code",
   "execution_count": null,
   "metadata": {},
   "outputs": [],
   "source": []
  }
 ],
 "metadata": {
  "interpreter": {
   "hash": "adc26f1b498f2e5943f07dc1a1fcdb3f30365ca4a7a00ab948ab9927c3da9241"
  },
  "kernelspec": {
   "display_name": "Python 3 (ipykernel)",
   "language": "python",
   "name": "python3"
  },
  "language_info": {
   "codemirror_mode": {
    "name": "ipython",
    "version": 3
   },
   "file_extension": ".py",
   "mimetype": "text/x-python",
   "name": "python",
   "nbconvert_exporter": "python",
   "pygments_lexer": "ipython3",
   "version": "3.9.6"
  }
 },
 "nbformat": 4,
 "nbformat_minor": 2
}
